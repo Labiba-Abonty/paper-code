{
 "cells": [
  {
   "cell_type": "code",
   "execution_count": 1,
   "metadata": {
    "_cell_guid": "b1076dfc-b9ad-4769-8c92-a6c4dae69d19",
    "_uuid": "8f2839f25d086af736a60e9eeb907d3b93b6e0e5",
    "execution": {
     "iopub.execute_input": "2022-08-26T09:31:02.720875Z",
     "iopub.status.busy": "2022-08-26T09:31:02.720214Z",
     "iopub.status.idle": "2022-08-26T09:31:02.771150Z",
     "shell.execute_reply": "2022-08-26T09:31:02.770396Z",
     "shell.execute_reply.started": "2022-08-26T09:31:02.720782Z"
    }
   },
   "outputs": [],
   "source": [
    "import numpy as np # linear algebra\n",
    "import pandas as pd # data processing, CSV file I/O (e.g. pd.read_csv)\n",
    "import os\n",
    "import pickle\n",
    "for dirname, _, filenames in os.walk('/kaggle/input'):\n",
    "    for filename in filenames:\n",
    "        print(os.path.join(dirname, filename))\n"
   ]
  },
  {
   "cell_type": "code",
   "execution_count": 2,
   "metadata": {
    "execution": {
     "iopub.execute_input": "2022-08-26T09:31:02.773375Z",
     "iopub.status.busy": "2022-08-26T09:31:02.772766Z",
     "iopub.status.idle": "2022-08-26T09:31:16.588624Z",
     "shell.execute_reply": "2022-08-26T09:31:16.587495Z",
     "shell.execute_reply.started": "2022-08-26T09:31:02.773339Z"
    }
   },
   "outputs": [],
   "source": [
    "pip install sentence_transformers"
   ]
  },
  {
   "cell_type": "markdown",
   "metadata": {},
   "source": [
    "https://arxiv.org/abs/1908.10084"
   ]
  },
  {
   "cell_type": "code",
   "execution_count": 3,
   "metadata": {
    "execution": {
     "iopub.execute_input": "2022-08-26T09:31:16.590932Z",
     "iopub.status.busy": "2022-08-26T09:31:16.590508Z",
     "iopub.status.idle": "2022-08-26T09:32:11.217817Z",
     "shell.execute_reply": "2022-08-26T09:32:11.216951Z",
     "shell.execute_reply.started": "2022-08-26T09:31:16.590891Z"
    }
   },
   "outputs": [],
   "source": [
    "from sentence_transformers import SentenceTransformer\n",
    "model = SentenceTransformer('sentence-transformers/paraphrase-multilingual-MiniLM-L12-v2')\n",
    "import torch \n",
    "from torch import nn\n",
    "cos_sim = nn.CosineSimilarity(dim=0)"
   ]
  },
  {
   "cell_type": "code",
   "execution_count": 6,
   "metadata": {
    "execution": {
     "iopub.execute_input": "2022-08-26T09:33:13.097986Z",
     "iopub.status.busy": "2022-08-26T09:33:13.096992Z",
     "iopub.status.idle": "2022-08-26T09:33:13.128584Z",
     "shell.execute_reply": "2022-08-26T09:33:13.127332Z",
     "shell.execute_reply.started": "2022-08-26T09:33:13.097945Z"
    }
   },
   "outputs": [],
   "source": [
    "def cal(s1,s2):\n",
    "    s1_enbeding = model.encode( s1 )\n",
    "    s2_enbeding = model.encode( s2 )\n",
    "    a1 = list(zip(s1,s1_enbeding))\n",
    "    a2 = list(zip(s2,s2_enbeding))\n",
    "    all_list = []\n",
    "    for i in a1:\n",
    "        max_j = []\n",
    "        for j in a2:\n",
    "            sim = cos_sim(torch.tensor(i[1]),torch.tensor(j[1]))\n",
    "            max_j.append([i[0],j[0],sim])\n",
    "        all_list.append(max(max_j,key=lambda x: x[-1]))\n",
    "    for i in range(len(all_list)):\n",
    "        all_list[i][-1] = all_list[i][-1].numpy().tolist()\n",
    "#     all_list.sort(key=lambda x:x[-1],reverse=True)\n",
    "    return all_list"
   ]
  },
  {
   "cell_type": "code",
   "execution_count": 7,
   "metadata": {
    "execution": {
     "iopub.execute_input": "2022-08-26T09:33:20.457426Z",
     "iopub.status.busy": "2022-08-26T09:33:20.457056Z",
     "iopub.status.idle": "2022-08-26T09:33:26.334583Z",
     "shell.execute_reply": "2022-08-26T09:33:26.333677Z",
     "shell.execute_reply.started": "2022-08-26T09:33:20.457395Z"
    }
   },
   "outputs": [],
   "source": [
    "ar  = cal(['access the download music'],['download music'])\n",
    "ar"
   ]
  },
  {
   "cell_type": "code",
   "execution_count": 5,
   "metadata": {
    "execution": {
     "iopub.execute_input": "2022-08-24T07:31:30.629950Z",
     "iopub.status.busy": "2022-08-24T07:31:30.629628Z",
     "iopub.status.idle": "2022-08-24T07:31:39.914923Z",
     "shell.execute_reply": "2022-08-24T07:31:39.913953Z",
     "shell.execute_reply.started": "2022-08-24T07:31:30.629923Z"
    }
   },
   "outputs": [],
   "source": [
    "data = pickle.load(open('../input/fiters-pk/pk2/pk2/{}.pk'.format('YouTube_privacy_reviews'),'rb'))\n",
    "s1 = data['s1']\n",
    "s2 = data['s2']\n",
    "print(s2)\n",
    "fiter = ['have the video','shoot','watch']\n",
    "s2 = [i.replace('watch engage','engage') for i in s2 if i not in fiter]\n",
    "s2 = [i.replace('the youtube ','').replace('youtube ','') for i in s2]\n",
    "arr = cal(s1,s2)\n",
    "with open('{}-phrase-bert.csv'.format('YouTube_privacy_reviews'),'w') as f:\n",
    "    for (i,j,z),id in zip(arr,data['id']):\n",
    "        z = str(z)\n",
    "        f.write('\"{}\",\"{}\",{},{}'.format(i,j,z,id)+'\\n')\n"
   ]
  },
  {
   "cell_type": "code",
   "execution_count": null,
   "metadata": {},
   "outputs": [],
   "source": [
    "# ../input/fiters-pk/pk/pk/Facebook_privacy_reviews.pk\n",
    "# ../input/fiters-pk/pk2/pk2"
   ]
  },
  {
   "cell_type": "code",
   "execution_count": 8,
   "metadata": {
    "execution": {
     "iopub.execute_input": "2022-08-12T09:25:09.961253Z",
     "iopub.status.busy": "2022-08-12T09:25:09.960692Z",
     "iopub.status.idle": "2022-08-12T09:25:27.838829Z",
     "shell.execute_reply": "2022-08-12T09:25:27.837955Z",
     "shell.execute_reply.started": "2022-08-12T09:25:09.961220Z"
    }
   },
   "outputs": [],
   "source": [
    "a = ['Facebook_privacy_reviews','Instagram_privacy_reviews','Spotify_privacy_reviews','TikTok_privacy_reviews','Twitter_privacy_reviews',\n",
    "    'YouTube_privacy_reviews','pocketguard']\n",
    "for i in a:\n",
    "    data = pickle.load(open('../input/fiters-pk/pk2/pk2/{}.pk'.format(i),'rb'))\n",
    "    s1 = data['s1']\n",
    "    s2 = data['s2']\n",
    "    arr = cal(s1,s2)\n",
    "    with open('{}-phrase-bert.csv'.format(i),'w') as f:\n",
    "        for (i,j,z),id in zip(arr,data['id']):\n",
    "            z = str(z)\n",
    "            f.write('\"{}\",\"{}\",{},{}'.format(i,j,z,id)+'\\n')"
   ]
  },
  {
   "cell_type": "code",
   "execution_count": null,
   "metadata": {},
   "outputs": [],
   "source": []
  }
 ],
 "metadata": {
  "kernelspec": {
   "display_name": "Python 3",
   "language": "python",
   "name": "python3"
  },
  "language_info": {
   "codemirror_mode": {
    "name": "ipython",
    "version": 3
   },
   "file_extension": ".py",
   "mimetype": "text/x-python",
   "name": "python",
   "nbconvert_exporter": "python",
   "pygments_lexer": "ipython3",
   "version": "3.7.0"
  }
 },
 "nbformat": 4,
 "nbformat_minor": 4
}
