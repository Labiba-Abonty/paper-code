{
 "cells": [
  {
   "cell_type": "code",
   "execution_count": 79,
   "metadata": {
    "scrolled": true
   },
   "outputs": [],
   "source": [
    "import json\n",
    "def get_phrase(url):\n",
    "    with open(url,encoding='utf-8') as fp:\n",
    "        s = fp.read().replace('\\ufeff','')\n",
    "        f = json.loads(s)\n",
    "        d1 = f\n",
    "        s1 = []\n",
    "        s2 = []\n",
    "        for i in range(len(d1)):\n",
    "            if d1[i]['review_id']>99:\n",
    "                break\n",
    "            for j in d1[i]['features']:\n",
    "                s1.append(' '.join(j[0]))\n",
    "                s2.append(d1[i]['review_id'])\n",
    "        return s1,s2"
   ]
  },
  {
   "cell_type": "code",
   "execution_count": 91,
   "metadata": {},
   "outputs": [],
   "source": [
    "import pickle\n",
    "def read_data2(url):\n",
    "    with open(url,encoding='utf-8') as fp:\n",
    "        s = fp.read().replace('\\ufeff','')\n",
    "        values = []\n",
    "        f = json.loads(s)\n",
    "        for i in f['rasa_nlu_data']['common_examples']:\n",
    "            for j in i['entities']:\n",
    "                values.append(j['value'])\n",
    "        a = values\n",
    "        a = [str(i).lower().replace('&','').replace(',','') for i in a ]\n",
    "        a = [i for i in a if i!='tweet']\n",
    "        return list(set(a))"
   ]
  },
  {
   "cell_type": "code",
   "execution_count": 99,
   "metadata": {},
   "outputs": [
    {
     "name": "stdout",
     "output_type": "stream",
     "text": [
      "1014 1014 38\n",
      "968 968 16\n",
      "1760 1760 30\n",
      "907 907 31\n",
      "819 819 48\n",
      "2272 2272 31\n"
     ]
    }
   ],
   "source": [
    "a = ['Facebook_privacy_reviews','Instagram_privacy_reviews','Spotify_privacy_reviews','TikTok_privacy_reviews','Twitter_privacy_reviews',\n",
    "    'YouTube_privacy_reviews', 'pocketguard']\n",
    "for i in a:\n",
    "    s1,s2 = get_phrase(r'.\\top200_reviews_features\\{}.json'.format(i))\n",
    "    a = read_data2('{}_ann.json'.format(i))\n",
    "    dic = {\n",
    "        's1':s1,\n",
    "        'id':s2,\n",
    "        's2':a   \n",
    "    }\n",
    "    print(len(s1),len(s2),len(a))\n",
    "    pickle.dump(dic,open(r'.\\pk\\{}.pk'.format(i),'wb'))"
   ]
  }
 ],
 "metadata": {
  "kernelspec": {
   "display_name": "Python 3",
   "language": "python",
   "name": "python3"
  },
  "language_info": {
   "codemirror_mode": {
    "name": "ipython",
    "version": 3
   },
   "file_extension": ".py",
   "mimetype": "text/x-python",
   "name": "python",
   "nbconvert_exporter": "python",
   "pygments_lexer": "ipython3",
   "version": "3.7.0"
  }
 },
 "nbformat": 4,
 "nbformat_minor": 2
}
